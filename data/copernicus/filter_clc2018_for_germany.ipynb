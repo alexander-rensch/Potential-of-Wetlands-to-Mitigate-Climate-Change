{
 "cells": [
  {
   "attachments": {},
   "cell_type": "markdown",
   "metadata": {},
   "source": [
    "# Filtering CORINE Land Cover 2018 dataset for Germany\n",
    "\n",
    "The CORINE Land Cover 2018 consists of an inventory of land cover in 44 classes based on Sentinel-2 and Landsat-8 data. It can be accessed here: https://land.copernicus.eu/pan-european/corine-land-cover\n",
    "\n",
    "In this notebook, the areas of Germany classified as *wetland* (Code 4xx) are extracted from the Corine Land Cover 2018 dataset for further processing."
   ]
  },
  {
   "cell_type": "code",
   "execution_count": 30,
   "metadata": {},
   "outputs": [],
   "source": [
    "import numpy as np\n",
    "import pandas as pd\n",
    "import geopandas"
   ]
  },
  {
   "attachments": {},
   "cell_type": "markdown",
   "metadata": {},
   "source": [
    "This notebook assumes that the data is made available under the following paths. The CLC 2018 data must be vector-based and experiments have been performed with the official distribution from the Copernicus programme in the ESRI Geodatabase format. But every other geodata format supported by geopandas should work."
   ]
  },
  {
   "cell_type": "code",
   "execution_count": null,
   "metadata": {},
   "outputs": [],
   "source": [
    "PATH_TO_NUTS_2021_LVL_3 = \"../eurostat/NUTS_RG_01M_2021_4326_LEVL_3.json\"\n",
    "PATH_TO_CLC2018 = \"u2018_clc2018_v2020_20u1_fgdb/DATA/U2018_CLC2018_V2020_20u1.gdb\""
   ]
  },
  {
   "attachments": {},
   "cell_type": "markdown",
   "metadata": {},
   "source": [
    "Utilizing NUTS Level 3 administrative zones as mask for fetching the CLC2018 data of Germany."
   ]
  },
  {
   "cell_type": "code",
   "execution_count": 31,
   "metadata": {},
   "outputs": [],
   "source": [
    "nuts_level_3 = geopandas.read_file(PATH_TO_NUTS_2021_LVL_3)\n",
    "nuts_level_3 = nuts_level_3.set_crs(\"EPSG:4326\")"
   ]
  },
  {
   "cell_type": "code",
   "execution_count": 32,
   "metadata": {},
   "outputs": [],
   "source": [
    "nuts_level_3_germany = nuts_level_3[nuts_level_3[\"CNTR_CODE\"] == \"DE\"]"
   ]
  },
  {
   "cell_type": "code",
   "execution_count": 33,
   "metadata": {},
   "outputs": [],
   "source": [
    "clc2018_germany = geopandas.read_file(PATH_TO_CLC2018, mask=nuts_level_3_germany)"
   ]
  },
  {
   "cell_type": "code",
   "execution_count": 34,
   "metadata": {},
   "outputs": [],
   "source": [
    "clc2018_germany = clc2018_germany.to_crs(\"EPSG:4326\")"
   ]
  },
  {
   "attachments": {},
   "cell_type": "markdown",
   "metadata": {},
   "source": [
    "Extracting the three relevant ecosystems from the dataset: \n",
    "\n",
    "- \"Inland marshes\" (411) \n",
    "- \"Peatbogs\" (412)\n",
    "- \"Salt marshes\" (421)\n",
    "\n",
    "Intertidal flats (423) are excluded as they are not in the scope of this project. See the [CORINE Land Cover nomenclature guidelines](https://land.copernicus.eu/user-corner/technical-library/corine-land-cover-nomenclature-guidelines/html/index.html) for further information about the classification."
   ]
  },
  {
   "cell_type": "code",
   "execution_count": 35,
   "metadata": {},
   "outputs": [],
   "source": [
    "wetlands = clc2018_germany[clc2018_germany[\"Code_18\"].isin([\"411\", \"412\", \"421\"])]"
   ]
  },
  {
   "cell_type": "code",
   "execution_count": 36,
   "metadata": {},
   "outputs": [
    {
     "data": {
      "text/html": [
       "<div>\n",
       "<style scoped>\n",
       "    .dataframe tbody tr th:only-of-type {\n",
       "        vertical-align: middle;\n",
       "    }\n",
       "\n",
       "    .dataframe tbody tr th {\n",
       "        vertical-align: top;\n",
       "    }\n",
       "\n",
       "    .dataframe thead th {\n",
       "        text-align: right;\n",
       "    }\n",
       "</style>\n",
       "<table border=\"1\" class=\"dataframe\">\n",
       "  <thead>\n",
       "    <tr style=\"text-align: right;\">\n",
       "      <th></th>\n",
       "      <th>Code_18</th>\n",
       "      <th>Remark</th>\n",
       "      <th>Area_Ha</th>\n",
       "      <th>ID</th>\n",
       "      <th>Shape_Length</th>\n",
       "      <th>Shape_Area</th>\n",
       "      <th>geometry</th>\n",
       "    </tr>\n",
       "  </thead>\n",
       "  <tbody>\n",
       "    <tr>\n",
       "      <th>10086</th>\n",
       "      <td>411</td>\n",
       "      <td>NaN</td>\n",
       "      <td>28.618544</td>\n",
       "      <td>EU_595529</td>\n",
       "      <td>3837.363612</td>\n",
       "      <td>2.861854e+05</td>\n",
       "      <td>MULTIPOLYGON (((6.76445 49.85424, 6.76410 49.8...</td>\n",
       "    </tr>\n",
       "    <tr>\n",
       "      <th>10087</th>\n",
       "      <td>411</td>\n",
       "      <td>NaN</td>\n",
       "      <td>65.836005</td>\n",
       "      <td>EU_595672</td>\n",
       "      <td>6184.452802</td>\n",
       "      <td>6.583601e+05</td>\n",
       "      <td>MULTIPOLYGON (((6.10114 51.25879, 6.10007 51.2...</td>\n",
       "    </tr>\n",
       "    <tr>\n",
       "      <th>10088</th>\n",
       "      <td>412</td>\n",
       "      <td>NaN</td>\n",
       "      <td>187.224936</td>\n",
       "      <td>EU_595740</td>\n",
       "      <td>7536.893593</td>\n",
       "      <td>1.872249e+06</td>\n",
       "      <td>MULTIPOLYGON (((6.25120 50.63017, 6.25132 50.6...</td>\n",
       "    </tr>\n",
       "    <tr>\n",
       "      <th>10241</th>\n",
       "      <td>411</td>\n",
       "      <td>NaN</td>\n",
       "      <td>157.419666</td>\n",
       "      <td>EU_596621</td>\n",
       "      <td>14376.362389</td>\n",
       "      <td>1.574197e+06</td>\n",
       "      <td>MULTIPOLYGON (((6.65722 49.25293, 6.65781 49.2...</td>\n",
       "    </tr>\n",
       "    <tr>\n",
       "      <th>11440</th>\n",
       "      <td>411</td>\n",
       "      <td>NaN</td>\n",
       "      <td>33.962090</td>\n",
       "      <td>EU_1029312</td>\n",
       "      <td>3174.334137</td>\n",
       "      <td>3.396209e+05</td>\n",
       "      <td>MULTIPOLYGON (((9.66701 47.58284, 9.66556 47.5...</td>\n",
       "    </tr>\n",
       "    <tr>\n",
       "      <th>...</th>\n",
       "      <td>...</td>\n",
       "      <td>...</td>\n",
       "      <td>...</td>\n",
       "      <td>...</td>\n",
       "      <td>...</td>\n",
       "      <td>...</td>\n",
       "      <td>...</td>\n",
       "    </tr>\n",
       "    <tr>\n",
       "      <th>169505</th>\n",
       "      <td>412</td>\n",
       "      <td>NaN</td>\n",
       "      <td>41.769345</td>\n",
       "      <td>EU_2370116</td>\n",
       "      <td>5376.531991</td>\n",
       "      <td>4.176934e+05</td>\n",
       "      <td>MULTIPOLYGON (((12.91782 48.21419, 12.91978 48...</td>\n",
       "    </tr>\n",
       "    <tr>\n",
       "      <th>169966</th>\n",
       "      <td>411</td>\n",
       "      <td>NaN</td>\n",
       "      <td>43.222356</td>\n",
       "      <td>EU_2371742</td>\n",
       "      <td>3878.241606</td>\n",
       "      <td>4.322236e+05</td>\n",
       "      <td>MULTIPOLYGON (((14.38708 51.63956, 14.38614 51...</td>\n",
       "    </tr>\n",
       "    <tr>\n",
       "      <th>170041</th>\n",
       "      <td>412</td>\n",
       "      <td>NaN</td>\n",
       "      <td>63.587904</td>\n",
       "      <td>EU_2372303</td>\n",
       "      <td>4994.571340</td>\n",
       "      <td>6.358790e+05</td>\n",
       "      <td>MULTIPOLYGON (((7.01510 52.61229, 7.01641 52.6...</td>\n",
       "    </tr>\n",
       "    <tr>\n",
       "      <th>170042</th>\n",
       "      <td>412</td>\n",
       "      <td>NaN</td>\n",
       "      <td>2009.372572</td>\n",
       "      <td>EU_2372304</td>\n",
       "      <td>37268.415609</td>\n",
       "      <td>2.009373e+07</td>\n",
       "      <td>MULTIPOLYGON (((7.07941 52.70460, 7.07962 52.7...</td>\n",
       "    </tr>\n",
       "    <tr>\n",
       "      <th>170043</th>\n",
       "      <td>421</td>\n",
       "      <td>NaN</td>\n",
       "      <td>225.227787</td>\n",
       "      <td>EU_2372313</td>\n",
       "      <td>13722.426084</td>\n",
       "      <td>2.252278e+06</td>\n",
       "      <td>MULTIPOLYGON (((6.98283 53.67588, 6.98378 53.6...</td>\n",
       "    </tr>\n",
       "  </tbody>\n",
       "</table>\n",
       "<p>1203 rows × 7 columns</p>\n",
       "</div>"
      ],
      "text/plain": [
       "       Code_18  Remark      Area_Ha          ID  Shape_Length    Shape_Area  \\\n",
       "10086      411     NaN    28.618544   EU_595529   3837.363612  2.861854e+05   \n",
       "10087      411     NaN    65.836005   EU_595672   6184.452802  6.583601e+05   \n",
       "10088      412     NaN   187.224936   EU_595740   7536.893593  1.872249e+06   \n",
       "10241      411     NaN   157.419666   EU_596621  14376.362389  1.574197e+06   \n",
       "11440      411     NaN    33.962090  EU_1029312   3174.334137  3.396209e+05   \n",
       "...        ...     ...          ...         ...           ...           ...   \n",
       "169505     412     NaN    41.769345  EU_2370116   5376.531991  4.176934e+05   \n",
       "169966     411     NaN    43.222356  EU_2371742   3878.241606  4.322236e+05   \n",
       "170041     412     NaN    63.587904  EU_2372303   4994.571340  6.358790e+05   \n",
       "170042     412     NaN  2009.372572  EU_2372304  37268.415609  2.009373e+07   \n",
       "170043     421     NaN   225.227787  EU_2372313  13722.426084  2.252278e+06   \n",
       "\n",
       "                                                 geometry  \n",
       "10086   MULTIPOLYGON (((6.76445 49.85424, 6.76410 49.8...  \n",
       "10087   MULTIPOLYGON (((6.10114 51.25879, 6.10007 51.2...  \n",
       "10088   MULTIPOLYGON (((6.25120 50.63017, 6.25132 50.6...  \n",
       "10241   MULTIPOLYGON (((6.65722 49.25293, 6.65781 49.2...  \n",
       "11440   MULTIPOLYGON (((9.66701 47.58284, 9.66556 47.5...  \n",
       "...                                                   ...  \n",
       "169505  MULTIPOLYGON (((12.91782 48.21419, 12.91978 48...  \n",
       "169966  MULTIPOLYGON (((14.38708 51.63956, 14.38614 51...  \n",
       "170041  MULTIPOLYGON (((7.01510 52.61229, 7.01641 52.6...  \n",
       "170042  MULTIPOLYGON (((7.07941 52.70460, 7.07962 52.7...  \n",
       "170043  MULTIPOLYGON (((6.98283 53.67588, 6.98378 53.6...  \n",
       "\n",
       "[1203 rows x 7 columns]"
      ]
     },
     "execution_count": 36,
     "metadata": {},
     "output_type": "execute_result"
    }
   ],
   "source": [
    "wetlands"
   ]
  },
  {
   "attachments": {},
   "cell_type": "markdown",
   "metadata": {},
   "source": [
    "Store the resulting geodataframe as shapefile for later use"
   ]
  },
  {
   "cell_type": "code",
   "execution_count": 37,
   "metadata": {},
   "outputs": [],
   "source": [
    "wetlands[[\"Code_18\", \"Area_Ha\", \"ID\", \"geometry\"]].to_file(\"clc2018_germany_wetlands.shp\")"
   ]
  }
 ],
 "metadata": {
  "kernelspec": {
   "display_name": "geodata-visualization",
   "language": "python",
   "name": "python3"
  },
  "language_info": {
   "codemirror_mode": {
    "name": "ipython",
    "version": 3
   },
   "file_extension": ".py",
   "mimetype": "text/x-python",
   "name": "python",
   "nbconvert_exporter": "python",
   "pygments_lexer": "ipython3",
   "version": "3.10.11"
  },
  "orig_nbformat": 4
 },
 "nbformat": 4,
 "nbformat_minor": 2
}
